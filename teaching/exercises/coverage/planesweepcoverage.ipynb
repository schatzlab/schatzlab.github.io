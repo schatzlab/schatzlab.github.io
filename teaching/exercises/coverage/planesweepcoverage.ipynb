{
 "cells": [
  {
   "cell_type": "markdown",
   "metadata": {
    "deletable": true,
    "editable": true
   },
   "source": [
    "<a name=\"top\"><h1> Plane-Sweep Coverage analysis</h1></a>\n",
    "\n",
    "<h2>Michael Schatz (mschatz@cshl.edu)</h2>\n",
    "<hr>\n",
    "\n",
    "In this notebook, we will consider the problem of computing the coverage across a sequence given a set of alignments. The alignments could come from reads aligned to a genome, or the layout of reads within a newly assembled contig. It could also be used to track other non-read features, such as the gene regions or other annotations.\n",
    " \n",
    "For example, given these five read alignments, the goal is to compute the coverage vector below it:\n",
    "\n",
    "    pos:    1    10    20   30   40   50    60    70    80     90\n",
    "    r1:     [==========================]\n",
    "    r2:          [================]\n",
    "    r3:                 [================================]\n",
    "    r4:                      [=====================]\n",
    "    r5:                                     [===================]\n",
    "    \n",
    "    cov:    11111222222233333444444333332222333333332222221111111\n",
    "\n",
    "And here is an example with real data: blue and red lines represent PacBio reads, with the coverage profile above them in black, and green marking the position of maximum coverage:\n",
    "\n",
    "![Sample coverage plot](data:image/png;base64,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)\n",
    "\n",
    "\n",
    "## <center> <a name=\"result\">The main result is with a smart algorithm and smart data structure <br> we can accelerate the basic brute force approaches by **over 300 fold!** </a> </center> ##\n",
    "\n",
    "Note the algorithms and data structures presented are also generally useful for many other genomic analyses working with intervals. \n",
    "\n",
    "<br><br>"
   ]
  },
  {
   "cell_type": "markdown",
   "metadata": {
    "deletable": true,
    "editable": true
   },
   "source": [
    "<h3>Table of Contents</h3>\n",
    "\n",
    "** Part I: Brute Force Analysis **\n",
    "\n",
    "1. [Extract read placements from the Celera Assembler](#extract)\n",
    "2. [Load the read positions](#load)\n",
    "3. [Plot the read layouts](#plotlayouts)\n",
    "4. [Brute-Force coverage analysis](#bruteforce)\n",
    "5. [Compute the max coverage](#maxcoverge)\n",
    "6. [Plot the read depth histogram](#plothistogram)\n",
    "7. [Delta encode the coverage profile](#deltaencode)\n",
    "8. [Plot the coverage profile](#plotcoverage)\n",
    "\n",
    "** Part II: Plane Sweep Analysis **\n",
    "\n",
    "1. [Plane-sweep coverage](#planesweepcoverage)\n",
    "2. [Checking for errors](#checkerrors)\n",
    "3. [Refine the plane-sweep update rule](#fixplanesweep)\n",
    "4. [Heap-based plane-sweep algorithm](#heap)\n",
    "5. [Max-coverage read ids](#maxreadids) \n",
    "6. [Plot the max depth position](#plotmaxdepth) \n",
    "7. [Summary](#summary)"
   ]
  },
  {
   "cell_type": "markdown",
   "metadata": {
    "deletable": true,
    "editable": true
   },
   "source": [
    "<h1> Part I: Brute force analyiss</h1>\n",
    "\n",
    "<a name=\"extract\">1. Extract the PacBio read placements from the Celera Assembler</a>\n",
    "---------------------------------------------------------------\n",
    "\n",
    "To get started, we will first load in the layout of PacBio reads within a contig assembled using the Celera Assemler. In this example, we will be using the read placements from our recent assembly of the [SKBR3 Breast Cancer Cell Line](http://schatzlab.cshl.edu/data/skbr3/). The information of how reads are placed is stored within the \"tigStore\", which is an on-disk binary database. Because it is a binary database, you cannot read it directly, but instead should use the 'tigStore' command to query or update the database.\n",
    "\n",
    "These commands will display the unitig layouts:\n",
    "\n",
    "    $ cd /seq/schatz/mnattest/skbr3/local_assembly/assembly_HLA_Feb17/CA/r1\n",
    "    \n",
    "    $ /sonas-hs/schatz/hpc/home/gurtowsk/sources/wgs.svn/Linux-amd64/bin/tigStore -g r1.gkpStore -t r1.tigStore/ 1 -d layout -U | head -20\n",
    "    unitig 0\n",
    "    len 0\n",
    "    cns\n",
    "    qlt\n",
    "    data.unitig_coverage_stat  1.000000\n",
    "    data.unitig_microhet_prob  1.000000\n",
    "    data.unitig_status         X\n",
    "    data.unitig_suggest_repeat F\n",
    "    data.unitig_suggest_unique F\n",
    "    data.unitig_force_repeat   F\n",
    "    data.unitig_force_unique   F\n",
    "    data.contig_status         U\n",
    "    data.num_frags             2884\n",
    "    data.num_unitigs           0\n",
    "    FRG type R ident     18318 container         0 parent     16010 hang   2962   1054 position  19674      0\n",
    "    FRG type R ident      2248 container     18318 parent     18318 hang    217  -4192 position  15480    218\n",
    "    FRG type R ident      8536 container      2248 parent      2248 hang    609  -4597 position    827  10881\n",
    "    FRG type R ident     10602 container      2248 parent      2248 hang    848   -420 position  15057   1067\n",
    "    FRG type R ident     16010 container         0 parent     18318 hang   1054   2962 position  22636   1089\n",
    "    FRG type R ident      4611 container     18318 parent     18318 hang   1155  -3014 position   1157  16657\n",
    "    \n",
    "This shows the first few reads (fragments, coded as FRG) within unitig 0. Note here we are looking at the \"version 1\" unitigs, meaning the raw output of the unitigger based on the overlapper before consensus has run. Consequently the unitig length is listed as 0 bp, although there are many reads (2884) reads in this unitig. Also note the unitig consensus and quality strings are also both empty for this reads.\n",
    "\n",
    "\n",
    "** Finding the longest reads in the assembly** \n",
    "\n",
    "For the coverage analysis, the most important values are the last two numbers for the FRG records which encodes the position of the read in the contig. These positions are based on the pair-wise overlap of each read with its immediate neighbors, so the positions may change a little during consensus generation but will show the overall trends. For example, the first read in this unitig is read 18318, and spans from position 19674 to position 0. Because the start position is greater than the end, we know this read has been reverse complemented and really starts at position 0.\n",
    "\n",
    "For PacBio assemblies, we are often interested in how well the longest reads were assembled. This command will determine which unitig has the longest read in it by annotating each FRG record with the unitig id and the read length as fields 1 and 2:\n",
    "\n",
    "    $ /sonas-hs/schatz/hpc/home/gurtowsk/sources/wgs.svn/Linux-amd64/bin/tigStore -g r1.gkpStore -t r1.tigStore/ 1 -d layout -U \\\n",
    "    | awk '{if (/^unitig/){tig=$2}else if(/^FRG/){l=$15-$14;if(l<0){l*=-1;} print tig,l,$0}}' \\\n",
    "    | sort -nrk2 | head -10 | column -t\n",
    "\n",
    "    3   37839  FRG  type  R  ident  5708   container  0  parent  10683  hang  122   20199  position  416262  454101\n",
    "    3   36519  FRG  type  R  ident  5022   container  0  parent  167    hang  1199  9553   position  402020  365501\n",
    "    4   35962  FRG  type  R  ident  3652   container  0  parent  10438  hang  199   13564  position  15094   51056\n",
    "    0   34550  FRG  type  R  ident  11392  container  0  parent  11328  hang  1010  18989  position  182086  216636\n",
    "    15  34302  FRG  type  R  ident  2622   container  0  parent  5938   hang  6855  7174   position  948470  914168\n",
    "    15  33695  FRG  type  R  ident  16040  container  0  parent  16226  hang  5741  9003   position  539963  573658\n",
    "    15  33671  FRG  type  R  ident  5938   container  0  parent  11492  hang  3720  16069  position  941296  907625\n",
    "    17  33504  FRG  type  R  ident  2341   container  0  parent  9030   hang  192   15632  position  382387  415891\n",
    "    3   33148  FRG  type  R  ident  8132   container  0  parent  7619   hang  1171  14849  position  162425  129277\n",
    "    3   32963  FRG  type  R  ident  5377   container  0  parent  14108  hang  1184  17010  position  102322  69359\n",
    " \n",
    "This means that unitig 3 (column 1) has the longest read at 38,839bp which is read 5708. It also has the second longest read with 36,519bp, which is read 5022.\n",
    "\n",
    "\n",
    "** Report the layout of a selected unitig **\n",
    "\n",
    "This command will report the read layout for just unitig 3, and just save the readid, start position, and end position to a file:\n",
    "\n",
    "    $ /sonas-hs/schatz/hpc/home/gurtowsk/sources/wgs.svn/Linux-amd64/bin/tigStore -g r1.gkpStore -t r1.tigStore/ 1 -d layout -u 3 \\\n",
    "      | grep '^FRG' | awk '{print $5,$14,$15}' > ~/readid.start.stop.txt\n",
    " \n",
    "With ``head`` and ``tail`` we can check on the output format\n",
    "\n",
    "    $ head -3 ~/readid.start.stop.txt\n",
    "    1 0 19814\n",
    "    2 799 19947\n",
    "    3 1844 13454\n",
    " \n",
    "    $ tail -3 ~/readid.start.stop.txt\n",
    "    1871 973590 965902\n",
    "    1872 966703 973521\n",
    "    1873 973632 966946\n",
    "\n",
    "Now we can load this file and examine the coverage across the contig"
   ]
  },
  {
   "cell_type": "markdown",
   "metadata": {
    "deletable": true,
    "editable": true
   },
   "source": [
    "<a name=\"load\">2. Load the read position file</a>\n",
    "------------------------------\n",
    "\n",
    "The expected file format is: ``readid \\t startpos \\t endpos``\n",
    "\n",
    "If ``startpos > endpos``, the read has been reverse complemented\n",
    " \n",
    "It would also be very easy to update the code to process BED, GTF, GFF or even SAM files.\n",
    "\n",
    "Here is the example readid.start.stop.txt file from the [breast cancer assembly](http://schatzlab.cshl.edu/teaching/exercises/coverage/readid.start.stop.txt)."
   ]
  },
  {
   "cell_type": "code",
   "execution_count": 4,
   "metadata": {
    "collapsed": false,
    "deletable": true,
    "editable": true
   },
   "outputs": [
    {
     "name": "stdout",
     "output_type": "stream",
     "text": [
      "Loading reads from /Users/mschatz/build/schatzlab/schatzlab.github.io/teaching/exercises/coverage/readid.start.stop.txt\n",
      "Loaded layout information for 1873 reads\n",
      "  0: read1 [0 - 19814] 0\n",
      "  1: read2 [799 - 19947] 0\n",
      "  2: read3 [1844 - 13454] 0\n",
      "  ...\n",
      "  1870: read1871 [965902 - 973590] 1\n",
      "  1871: read1872 [966703 - 973521] 0\n",
      "  1872: read1873 [966946 - 973632] 1\n",
      "\n",
      "\n",
      "\n"
     ]
    }
   ],
   "source": [
    "import matplotlib.pyplot as plt\n",
    "from collections import deque\n",
    "import heapq\n",
    "import time\n",
    "\n",
    "\n",
    "## Limit the number of reads to load, -1 for unlimited\n",
    "MAXREADS = -1\n",
    "\n",
    "## Limit the number of reads to plot\n",
    "MAX_READS_LAYOUT = 500\n",
    "\n",
    "## Path to reads file\n",
    "READFILE = \"/Users/mschatz/build/schatzlab/schatzlab.github.io/teaching/exercises/coverage/readid.start.stop.txt\"\n",
    "print \"Loading reads from \" + READFILE\n",
    "f = open(READFILE)\n",
    "\n",
    "## This will have a list of tuples containing (readid, start, end, rc)\n",
    "## rc is 0 if the read was originally oriented forward, 1 for reverse\n",
    "\n",
    "reads = []\n",
    "totallen = 0\n",
    "readidx = 0\n",
    "\n",
    "for line in f:\n",
    "  line = line.rstrip()\n",
    "  fields = line.split()\n",
    "  readid  = fields[0]\n",
    "  start   = int(fields[1])\n",
    "  end     = int(fields[2])\n",
    "  rc      = 0\n",
    "\n",
    "  if (start > end):\n",
    "    start = int(fields[2])\n",
    "    end   = int(fields[1])\n",
    "    rc = 1\n",
    "\n",
    "  readinfo = (readid, start, end, rc)\n",
    "  reads.append(readinfo)\n",
    "\n",
    "  if (end > totallen):\n",
    "    totallen = end\n",
    "\n",
    "  readidx += 1\n",
    "  if (readidx == MAXREADS):\n",
    "    break\n",
    "\n",
    "print \"Loaded layout information for %d reads\" % (len(reads))\n",
    "\n",
    "for i in xrange(3):\n",
    "  print \"  %d: %s [%d - %d] %d\" % (i, reads[i][0], reads[i][1], reads[i][2], reads[i][3])\n",
    "\n",
    "print \"  ...\"\n",
    "\n",
    "for i in xrange(len(reads)-3, len(reads)):\n",
    "  print \"  %d: %s [%d - %d] %d\" % (i, reads[i][0], reads[i][1], reads[i][2], reads[i][3])\n",
    "\n",
    "print \"\\n\\n\"\n"
   ]
  },
  {
   "cell_type": "markdown",
   "metadata": {
    "deletable": true,
    "editable": true
   },
   "source": [
    "## <a name=\"plotlayouts\">3. Plot the read layouts</a>"
   ]
  },
  {
   "cell_type": "code",
   "execution_count": 12,
   "metadata": {
    "collapsed": false,
    "deletable": true,
    "editable": true
   },
   "outputs": [
    {
     "name": "stdout",
     "output_type": "stream",
     "text": [
      "Plotting layout\n"
     ]
    },
    {
     "data": {
      "image/png": "[encoded data removed]",
      "text/plain": [
       "<matplotlib.figure.Figure at 0x111a3a310>"
      ]
     },
     "metadata": {},
     "output_type": "display_data"
    }
   ],
   "source": [
    "## Note to keep it tractable, we only plot the first MAX_READ_LAYOUT reads\n",
    "\n",
    "plt.figure(figsize=(15,35), dpi=100)\n",
    "\n",
    "print \"Plotting layout\"\n",
    "\n",
    "## draw the layout of reads\n",
    "for i in xrange(min(MAX_READS_LAYOUT, len(reads))):\n",
    "    r = reads[i]\n",
    "    readid = r[0]\n",
    "    start  = r[1]\n",
    "    end    = r[2]\n",
    "    rc     = r[3]\n",
    "    color  = \"blue\"\n",
    "\n",
    "    if (rc == 1): \n",
    "      color = \"red\"\n",
    "\n",
    "    plt.plot ([start,end], [-20*i, -20*i], lw=1, color=color)\n",
    "\n",
    "plt.draw()\n",
    "plt.show()\n"
   ]
  },
  {
   "cell_type": "markdown",
   "metadata": {
    "deletable": true,
    "editable": true
   },
   "source": [
    "<a name=\"bruteforce\">4. Brute force the coverage profile</a>\n",
    "-----------------------------------\n",
    "\n",
    "There are several techniques for computing the coverage profile. One basic approach would be to separately compute how many reads span each position in the genome. This would take ``O(G * N)`` time where ``G`` is the length of the genome, and ``N`` is the number of reads. This is easy to see since it requires ``O(1)`` time to detemine if a read spans a given position:\n",
    "\n",
    "    if ((startpos <= querypos) and (querypos <= endpos)):\n",
    "      print \"This read spans the query position!\"\n",
    "\n",
    "Here we do something slightly smarter which is to initialize the coverage array with all zeros, and then process each read to increment the coverage array at each position in the read. This requires ``O(G + N*L)`` where ``L`` is the average length of the read. Since ``L << G``, this can be a huge advantage.\n"
   ]
  },
  {
   "cell_type": "code",
   "execution_count": 9,
   "metadata": {
    "collapsed": false,
    "deletable": true,
    "editable": true
   },
   "outputs": [
    {
     "name": "stdout",
     "output_type": "stream",
     "text": [
      "Brute force computing coverage over 973898 bp\n",
      "  Brute force complete in 4435.00 ms\n",
      "[1, 1, 1, 1, 1, 1, 1, 1, 1, 1]\n"
     ]
    }
   ],
   "source": [
    "print \"Brute force computing coverage over %d bp\" % (totallen)\n",
    "\n",
    "starttime = time.time()\n",
    "brutecov = [0] * totallen\n",
    "\n",
    "for r in reads:\n",
    " # print \" -- [%d, %d]\" % (r[1], r[2])\n",
    "\n",
    "  for i in xrange(r[1], r[2]):\n",
    "    brutecov[i] += 1\n",
    "\n",
    "brutetime = (time.time() - starttime) * 1000.0\n",
    "\n",
    "print \"  Brute force complete in %0.02f ms\" % (brutetime)\n",
    "print brutecov[0:10]"
   ]
  },
  {
   "cell_type": "markdown",
   "metadata": {
    "deletable": true,
    "editable": true
   },
   "source": [
    "** Notice that it took 4435 ms for this to complete **"
   ]
  },
  {
   "cell_type": "markdown",
   "metadata": {
    "deletable": true,
    "editable": true
   },
   "source": [
    "<a name=\"maxcoverage\">5. Compute the max coverage</a>\n",
    "---------------------------\n",
    "\n",
    "With the coverage profile, it is trivial to compute the max coverage or other simple queries"
   ]
  },
  {
   "cell_type": "code",
   "execution_count": 11,
   "metadata": {
    "collapsed": false,
    "deletable": true,
    "editable": true
   },
   "outputs": [
    {
     "name": "stdout",
     "output_type": "stream",
     "text": [
      "max cov: 49, there are 83209 low coverage bases (<= 10 depth)\n",
      "\n",
      "\n",
      "\n"
     ]
    }
   ],
   "source": [
    "maxcov = 0\n",
    "lowcov = 0\n",
    "LOW_COV_THRESHOLD = 10\n",
    "\n",
    "for c in brutecov:\n",
    "  if c > maxcov:\n",
    "    maxcov = c\n",
    "  if c <= LOW_COV_THRESHOLD:\n",
    "    lowcov += 1\n",
    "\n",
    "print \"max cov: %d, there are %d low coverage bases (<= %d depth)\" % (maxcov, lowcov, LOW_COV_THRESHOLD)\n",
    "\n",
    "print \"\\n\\n\"\n"
   ]
  },
  {
   "cell_type": "markdown",
   "metadata": {
    "deletable": true,
    "editable": true
   },
   "source": [
    "<a name=\"plothistogram\">6. Plot the read depth histogram</a>\n",
    "--------------------------------"
   ]
  },
  {
   "cell_type": "code",
   "execution_count": 12,
   "metadata": {
    "collapsed": false,
    "deletable": true,
    "editable": true
   },
   "outputs": [
    {
     "data": {
      "image/png": "[encoded data removed]",
      "text/plain": [
       "<matplotlib.figure.Figure at 0x10b6a0e10>"
      ]
     },
     "metadata": {},
     "output_type": "display_data"
    }
   ],
   "source": [
    "  plt.figure()\n",
    "  plt.hist(brutecov)\n",
    "  plt.show()\n"
   ]
  },
  {
   "cell_type": "markdown",
   "metadata": {
    "deletable": true,
    "editable": true
   },
   "source": [
    "<a name=\"deltaencode\">7. Delta encode the coverage profile</a>\n",
    "-----------------------------------\n",
    "\n",
    "Imagine the coverage profile looks like this:\n",
    "\n",
    "                 ##                                    #####         ###\n",
    "                ####                               ############### #########\n",
    "            ############  #########  ###       ################### ########### \n",
    "          ###############################   ###################### #############\n",
    "    \n",
    "     cov: 11222234432222112222222221122210001112222333344444333333033444333322110\n",
    "      \n",
    "     pos: 00000000001111111111222222222233333333334444444444555555555566666666667\n",
    "          01234567890123456789012345678901234567890123456789012345678901234567890\n",
    "    \n",
    "     \n",
    "Notice that most consecutive positions have the same depth. This means we can recover exactly this plot if we just record the transitions\n",
    "\n",
    "                  #                                     #             #  \n",
    "                 ## #                               #   #    #      # #  #   \n",
    "             #   ## ##     #          #         #   #   #    #      # #  #   #  \n",
    "           # #   ## ##   # #        # #  #   #  #   #   #    #      # #  #   # # \n",
    "    \n",
    "     cov: 1 2   34 32   1 2        1 2  10  1  2   3   4    3      3 4  3   2 1 0 \n",
    "     \n",
    "     pos: 0 0   00 01   1 1        2 2  33  3  3   4   4    5     55 5  6   6 6 7\n",
    "          0 2   67 90   4 6        5 7  01  4  7   1   5    0     67 9  2   6 8 0\n",
    "\n",
    "Here, instead of 70 depth values, we can record just 24 without loss of information!\n"
   ]
  },
  {
   "cell_type": "code",
   "execution_count": 13,
   "metadata": {
    "collapsed": false,
    "deletable": true,
    "editable": true
   },
   "outputs": [
    {
     "name": "stdout",
     "output_type": "stream",
     "text": [
      "Delta encoding coverage plot\n",
      "Delta encoding required only 3697 steps, saving 99.62% of the space in 151.32 ms\n",
      "  0: [0,1]\n",
      "  1: [799,2]\n",
      "  2: [1844,3]\n",
      "  ...\n",
      "  3694: [973770,2]\n",
      "  3695: [973779,1]\n",
      "  3696: [973898,0]\n",
      "\n",
      "\n",
      "\n"
     ]
    }
   ],
   "source": [
    "print \"Delta encoding coverage plot\"\n",
    "\n",
    "starttime = time.time()\n",
    "\n",
    "deltacov = []\n",
    "curcov = -1\n",
    "for i in xrange(0, len(brutecov)):\n",
    "  if brutecov[i] != curcov:\n",
    "    curcov = brutecov[i]\n",
    "    delta = (i, curcov)\n",
    "    deltacov.append(delta)\n",
    "\n",
    "## Finish up with the last position\n",
    "deltacov.append((totallen, 0))\n",
    "\n",
    "print \"Delta encoding required only %d steps, saving %0.02f%% of the space in %0.02f ms\" % (len(deltacov), (100.0*float(totallen-len(deltacov))/totallen), (time.time()-starttime) * 1000.0)\n",
    "\n",
    "for i in xrange(3):\n",
    "  print \"  %d: [%d,%d]\" % (i, deltacov[i][0], deltacov[i][1])\n",
    "\n",
    "print \"  ...\"\n",
    "\n",
    "for i in xrange(len(deltacov)-3, len(deltacov)):\n",
    "  print \"  %d: [%d,%d]\" % (i, deltacov[i][0], deltacov[i][1])\n",
    "\n",
    "print \"\\n\\n\"\n"
   ]
  },
  {
   "cell_type": "markdown",
   "metadata": {
    "deletable": true,
    "editable": true
   },
   "source": [
    "<a name=\"plotcoverage\">8. Plot the coverage profile</a>\n",
    "----------------------------\n",
    "\n",
    "In theory you could plot the raw coverage profile, but python doesnt like to draw thousands and thousands of little lines. But it does fine for this representation."
   ]
  },
  {
   "cell_type": "code",
   "execution_count": 35,
   "metadata": {
    "collapsed": false,
    "deletable": true,
    "editable": true
   },
   "outputs": [
    {
     "name": "stdout",
     "output_type": "stream",
     "text": [
      "Plotting coverage profile\n"
     ]
    },
    {
     "data": {
      "image/png": "[encoded data removed]",
      "text/plain": [
       "<matplotlib.figure.Figure at 0x116fb3d90>"
      ]
     },
     "metadata": {},
     "output_type": "display_data"
    }
   ],
   "source": [
    "  plt.figure(figsize=(15,4), dpi=100)\n",
    "\n",
    "  print \"Plotting coverage profile\"\n",
    "  \n",
    "  ## expand the coverage profile by this amount so that it is easier to see\n",
    "  YSCALE = 5\n",
    "\n",
    "  ## draw the layout of reads\n",
    "  for i in xrange(min(MAX_READS_LAYOUT, len(reads))):\n",
    "    r = reads[i]\n",
    "    readid = r[0]\n",
    "    start  = r[1]\n",
    "    end    = r[2]\n",
    "    rc     = r[3]\n",
    "    color  = \"blue\"\n",
    "\n",
    "    if (rc == 1): \n",
    "      color = \"red\"\n",
    "\n",
    "    plt.plot ([start,end], [-2*i, -2*i], lw=4, color=color)\n",
    "\n",
    "  ## draw the base of the coverage plot\n",
    "  plt.plot([0, totallen], [0,0], color=\"black\")\n",
    "\n",
    "  ## draw the coverage plot\n",
    "  for i in xrange(len(deltacov)-1):\n",
    "    x1 = deltacov[i][0]\n",
    "    x2 = deltacov[i+1][0]\n",
    "    y1  = YSCALE*deltacov[i][1]\n",
    "    y2  = YSCALE*deltacov[i+1][1]\n",
    "\n",
    "    ## draw the horizonal line\n",
    "    plt.plot([x1, x2], [y1, y1], color=\"black\")\n",
    "    \n",
    "    ## and now the right vertical to the new coverage level\n",
    "    plt.plot([x2, x2], [y1, y2], color=\"black\")\n",
    "\n",
    "  plt.draw()\n",
    "  plt.show()\n"
   ]
  },
  {
   "cell_type": "markdown",
   "metadata": {
    "deletable": true,
    "editable": true
   },
   "source": [
    "<h1> Part II: Plane-sweep analysis</h1>\n",
    "\n",
    "<a name=\"planesweepcoverage\">1. Plane-sweep coverage</a>\n",
    "------------------------\n",
    "\n",
    "Notice the coverage only changes at the beginning or end of a read\n",
    "so just need to walk from read to read and keep track of depth along the way\n",
    "\n",
    "Returning to our example again:\n",
    "\n",
    "    pos:    1    10    20   30   40   50    60    70    80     90\n",
    "    r1:     [==========================]\n",
    "    r2:          [================]\n",
    "    r3:                 [================================]\n",
    "    r4:                      [=====================]\n",
    "    r5:                                     [===================]\n",
    "\n",
    "    cov:    11111222222233333444444333332222333333332222221111111\n",
    "\n",
    "We can imagine scanning across this from left to right to\n",
    "keep track of how many reads span each position. This is a widely\n",
    "used approach in computational geometry called a [plane-sweep](http://en.wikipedia.org/wiki/Sweep_line_algorithm)\n",
    "algorithm.\n",
    "\n",
    "The basic technique follows like this:\n",
    "\n",
    "- Assume layout is in sorted order by start position (or explicitly sort by start position)\n",
    "- walking from start position to start position\n",
    "   - check to see if we past any read ends \n",
    "   - coverage goes down by one when a read ends\n",
    "   - coverage goes up by one when new read is encountered\n",
    "- use a list/deque/heap to track how many reads currently intersect the plane\n",
    "  - the number of elements in the list corresponds to the current depth\n",
    "\n",
    "In this example, the plane sweeps like this:\n",
    "\n",
    "    arrive at 1\n",
    "     1 (add 50): 50\n",
    "     \n",
    "    arrive at 10\n",
    "    10 (add 40): 40, 50 <- notice insert out of order \n",
    "    \n",
    "    arrive at 20\n",
    "    20 (add 80): 40, 50, 80\n",
    "    \n",
    "    arrive at 30\n",
    "    30 (add 70): 40, 50, 70, 80 <- out of order again\n",
    "    \n",
    "    arrive at 60\n",
    "    40 (sub 40): 50, 70, 80\n",
    "    50 (sub 50): 70, 80\n",
    "    60 (add 90): 70, 80, 90\n",
    "    \n",
    "    no more starts, flush the end points\n",
    "    70 (sub 70): 80, 90\n",
    "    80 (sub 80): 90\n",
    "    90 (sub 90): 0\n"
   ]
  },
  {
   "cell_type": "code",
   "execution_count": 34,
   "metadata": {
    "collapsed": false,
    "deletable": true,
    "editable": true
   },
   "outputs": [
    {
     "name": "stdout",
     "output_type": "stream",
     "text": [
      "Beginning list-based plane sweep over 1873 reads\n",
      "Plane sweep found 3746 steps, saving 99.62% of the space in 48.90 ms (90.69 speedup)!\n",
      "  0: [0,1]\n",
      "  1: [799,2]\n",
      "  2: [1844,3]\n",
      "  ...\n",
      "  3743: [973770,2]\n",
      "  3744: [973779,1]\n",
      "  3745: [973898,0]\n",
      "\n",
      "\n",
      "\n"
     ]
    }
   ],
   "source": [
    "print \"Beginning list-based plane sweep over %d reads\" % (len(reads))\n",
    "\n",
    "starttime = time.time()\n",
    "\n",
    "## record the delta encoded depth using a plane sweep\n",
    "deltacovplane = []\n",
    "\n",
    "## use a list to record the end positions of the elements currently in plane\n",
    "planelist = []\n",
    "\n",
    "## BEGIN SWEEP \n",
    "for r in reads:\n",
    "  startpos = r[1]\n",
    "  endpos   = r[2]\n",
    "\n",
    "  ## clear out any positions from the plane that we have already moved past\n",
    "  while (len(planelist) > 0):\n",
    "\n",
    "    if (planelist[0] <= startpos):\n",
    "      ## the coverage steps down, extract it from the front of the list \n",
    "      oldend = planelist.pop(0) \n",
    "      deltacovplane.append((oldend, len(planelist)))\n",
    "    else:\n",
    "      break\n",
    "\n",
    "  ## Now insert the current endpos into the correct position into the list\n",
    "  insertpos = -1\n",
    "  for i in xrange(len(planelist)):\n",
    "    if (endpos < planelist[i]):\n",
    "        insertpos = i\n",
    "        break\n",
    "\n",
    "  if (insertpos > 0):\n",
    "    planelist.insert(insertpos, endpos)\n",
    "  else:\n",
    "    planelist.append(endpos)\n",
    "\n",
    "\n",
    "  ## Finally record that the coverage has increased\n",
    "  deltacovplane.append((startpos, len(planelist)))\n",
    "\n",
    "\n",
    "## Flush any remaining end positions\n",
    "while (len(planelist) > 0):\n",
    "  oldend = planelist.pop(0) \n",
    "  deltacovplane.append((oldend, len(planelist)))\n",
    "\n",
    "\n",
    "## Report statistics\n",
    "planelisttime = (time.time() - starttime) * 1000.0\n",
    "print \"Plane sweep found %d steps, saving %0.02f%% of the space in %0.2f ms (%0.02f speedup)!\" % (len(deltacovplane), (100.0*float(totallen-len(deltacovplane))/totallen), planelisttime, brutetime/planelisttime)\n",
    "\n",
    "for i in xrange(3):\n",
    "  print \"  %d: [%d,%d]\" % (i, deltacovplane[i][0], deltacovplane[i][1])\n",
    "\n",
    "print \"  ...\"\n",
    "\n",
    "for i in xrange(len(deltacovplane)-3, len(deltacovplane)):\n",
    "  print \"  %d: [%d,%d]\" % (i, deltacovplane[i][0], deltacovplane[i][1])\n",
    "\n",
    "print \"\\n\\n\"\n"
   ]
  },
  {
   "cell_type": "markdown",
   "metadata": {
    "deletable": true,
    "editable": true
   },
   "source": [
    "<a name=\"checkerrors\">2. Checking for errors</a>\n",
    "-----------------------\n",
    "\n",
    "The above implementation is flawed because there may be multiple events (read starts and/or read ends) at the same position. This will leading to multiple entries at the same position, although there should only be one\n"
   ]
  },
  {
   "cell_type": "code",
   "execution_count": 17,
   "metadata": {
    "collapsed": false,
    "deletable": true,
    "editable": true
   },
   "outputs": [
    {
     "name": "stdout",
     "output_type": "stream",
     "text": [
      "Checking for duplicates:\n",
      "  Found duplicate: 45: [20763,38] == 46: [20763,39]\n",
      "  Found duplicate: 119: [36471,22] == 120: [36471,21]\n",
      "  Found duplicate: 158: [46334,37] == 159: [46334,36]\n",
      "  Found duplicate: 438: [99894,27] == 439: [99894,28]\n",
      "  Found duplicate: 459: [102773,30] == 460: [102773,31]\n",
      "  Found duplicate: 527: [118454,16] == 528: [118454,15]\n",
      "  Found duplicate: 529: [118455,14] == 530: [118455,13]\n",
      "  Found duplicate: 634: [140597,33] == 635: [140597,32]\n",
      "  Found duplicate: 650: [142846,29] == 651: [142846,30]\n",
      "  Found duplicate: 680: [148015,37] == 681: [148015,38]\n",
      "  Found duplicate: 734: [156928,39] == 735: [156928,40]\n",
      "  Found duplicate: 736: [157049,39] == 737: [157049,38]\n",
      "  Found duplicate: 776: [163850,35] == 777: [163850,34]\n",
      "  Found duplicate: 893: [192138,22] == 894: [192138,23]\n",
      "  Found duplicate: 925: [200780,26] == 926: [200780,27]\n",
      "  Found duplicate: 953: [207176,24] == 954: [207176,23]\n",
      "  Found duplicate: 956: [207608,21] == 957: [207608,20]\n",
      "  Found duplicate: 1183: [263441,28] == 1184: [263441,29]\n",
      "  Found duplicate: 1228: [272371,21] == 1229: [272371,20]\n",
      "  Found duplicate: 1274: [284943,19] == 1275: [284943,18]\n",
      "  Found duplicate: 1404: [321683,31] == 1405: [321683,32]\n",
      "  Found duplicate: 1451: [332607,12] == 1452: [332607,11]\n",
      "  Found duplicate: 1625: [379379,32] == 1626: [379379,33]\n",
      "  Found duplicate: 1679: [388495,34] == 1680: [388495,33]\n",
      "  Found duplicate: 1682: [388799,33] == 1683: [388799,34]\n",
      "  Found duplicate: 1781: [406457,30] == 1782: [406457,31]\n",
      "  Found duplicate: 1865: [421769,28] == 1866: [421769,27]\n",
      "  Found duplicate: 1957: [442758,22] == 1958: [442758,23]\n",
      "  Found duplicate: 1983: [448441,36] == 1984: [448441,37]\n",
      "  Found duplicate: 2031: [455780,36] == 2032: [455780,37]\n",
      "  Found duplicate: 2054: [459807,39] == 2055: [459807,38]\n",
      "  Found duplicate: 2101: [472150,8] == 2102: [472150,7]\n",
      "  Found duplicate: 2164: [493322,25] == 2165: [493322,26]\n",
      "  Found duplicate: 2196: [499862,21] == 2197: [499862,20]\n",
      "  Found duplicate: 2212: [504669,23] == 2213: [504669,24]\n",
      "  Found duplicate: 2233: [511527,22] == 2234: [511527,21]\n",
      "  Found duplicate: 2422: [598503,23] == 2423: [598503,24]\n",
      "  Found duplicate: 2580: [637735,23] == 2581: [637735,24]\n",
      "  Found duplicate: 2633: [648890,26] == 2634: [648890,27]\n",
      "  Found duplicate: 2640: [650223,27] == 2641: [650223,26]\n",
      "  Found duplicate: 2668: [656130,17] == 2669: [656130,16]\n",
      "  Found duplicate: 2722: [674166,25] == 2723: [674166,26]\n",
      "  Found duplicate: 2784: [688606,27] == 2785: [688606,26]\n",
      "  Found duplicate: 2909: [715460,36] == 2910: [715460,37]\n",
      "  Found duplicate: 3216: [826087,15] == 3217: [826087,16]\n",
      "  Found duplicate: 3328: [852933,31] == 3329: [852933,30]\n",
      "  Found duplicate: 3459: [890989,8] == 3460: [890989,7]\n",
      "  Found duplicate: 3642: [950674,15] == 3643: [950674,16]\n",
      "\n",
      "\n",
      "\n"
     ]
    }
   ],
   "source": [
    "print \"Checking for duplicates:\"\n",
    "\n",
    "lastpos = -1\n",
    "for i in xrange(len(deltacovplane)):\n",
    "  if deltacovplane[i][0] == lastpos:\n",
    "    print \"  Found duplicate: %d: [%d,%d] == %d: [%d,%d]\" % (i-1, deltacovplane[i-1][0], deltacovplane[i-1][1], i, deltacovplane[i][0], deltacovplane[i][1])\n",
    "  lastpos = deltacovplane[i][0]\n",
    "\n",
    "print \"\\n\\n\"\n"
   ]
  },
  {
   "cell_type": "markdown",
   "metadata": {
    "deletable": true,
    "editable": true
   },
   "source": [
    "<a name=\"fixplanesweep\">3. Refine the plane-sweep update rule</a>\n",
    "--------------------------------------\n",
    "\n",
    "Lets fix the implementation to check for multiple events at the same position by peeking ahead to check for multiple ends or multiple starts at the exact same position\n",
    " \n",
    "Strictly speaking this may give slightly different results than the brute force coverage profile since this will create an event if a read ends at exactly the same place another begins, whereas the brute force approach will link together those regions because they have the same coverage\n"
   ]
  },
  {
   "cell_type": "code",
   "execution_count": 18,
   "metadata": {
    "collapsed": false,
    "deletable": true,
    "editable": true
   },
   "outputs": [
    {
     "name": "stdout",
     "output_type": "stream",
     "text": [
      "Beginning correct list-based plane sweep over 1873 reads\n",
      "Plane sweep found 3698 steps, saving 99.62% of the space in 15.03 ms (295.17 speedup)!\n",
      "  0: [0,1]\n",
      "  1: [799,2]\n",
      "  2: [1844,3]\n",
      "  ...\n",
      "  3695: [973770,2]\n",
      "  3696: [973779,1]\n",
      "  3697: [973898,0]\n",
      "\n",
      "\n",
      "\n",
      "Checking for duplicates in corrected version:\n",
      "\n",
      "\n",
      "\n"
     ]
    }
   ],
   "source": [
    "print \"Beginning correct list-based plane sweep over %d reads\" % (len(reads))\n",
    "\n",
    "starttime = time.time()\n",
    "\n",
    "## record the delta encoded depth using a plane sweep\n",
    "deltacovplane = []\n",
    "\n",
    "## use a list to record the end positions of the elements currently in plane\n",
    "planelist = []\n",
    "\n",
    "## BEGIN SWEEP (note change to index based so can peek ahead)\n",
    "for rr in xrange(len(reads)):\n",
    "  r = reads[rr]\n",
    "  startpos = r[1]\n",
    "  endpos   = r[2]\n",
    "\n",
    "  ## clear out any positions from the plane that we have already moved past\n",
    "  while (len(planelist) > 0):\n",
    "\n",
    "    if (planelist[0] <= startpos):\n",
    "      ## the coverage steps down, extract it from the front of the list \n",
    "      oldend = planelist.pop(0) \n",
    "\n",
    "      nextend = -1\n",
    "      if (len(planelist) > 0):\n",
    "        nextend = planelist[0]\n",
    "\n",
    "      ## only record this transition if it is not the same as a start pos\n",
    "      ## and only if not the same as the next end point\n",
    "      if ((oldend != startpos) and (oldend != nextend)):\n",
    "        deltacovplane.append((oldend, len(planelist)))\n",
    "    else:\n",
    "      break\n",
    "\n",
    "  ## Now insert the current endpos into the correct position into the list\n",
    "  insertpos = -1\n",
    "  for i in xrange(len(planelist)):\n",
    "    if (endpos < planelist[i]):\n",
    "        insertpos = i\n",
    "        break\n",
    "\n",
    "  if (insertpos > 0):\n",
    "    planelist.insert(insertpos, endpos)\n",
    "  else:\n",
    "    planelist.append(endpos)\n",
    "\n",
    "\n",
    "  ## Finally record that the coverage has increased\n",
    "  ## But make sure the current read does not start at the same position as the next\n",
    "  if ((rr == len(reads)-1) or (startpos != reads[rr+1][1])):\n",
    "    deltacovplane.append((startpos, len(planelist)))\n",
    "\n",
    "  ## if it is at the same place, it will get reported in the next cycle\n",
    "\n",
    "## Flush any remaining end positions\n",
    "while (len(planelist) > 0):\n",
    "  oldend = planelist.pop(0) \n",
    "  deltacovplane.append((oldend, len(planelist)))\n",
    "\n",
    "\n",
    "## Report statistics\n",
    "planelisttime = (time.time() - starttime) * 1000.0\n",
    "print \"Plane sweep found %d steps, saving %0.02f%% of the space in %0.2f ms (%0.02f speedup)!\" % (len(deltacovplane), (100.0*float(totallen-len(deltacovplane))/totallen), planelisttime, brutetime/planelisttime)\n",
    "\n",
    "for i in xrange(3):\n",
    "  print \"  %d: [%d,%d]\" % (i, deltacovplane[i][0], deltacovplane[i][1])\n",
    "\n",
    "print \"  ...\"\n",
    "\n",
    "for i in xrange(len(deltacovplane)-3, len(deltacovplane)):\n",
    "  print \"  %d: [%d,%d]\" % (i, deltacovplane[i][0], deltacovplane[i][1])\n",
    "\n",
    "print \"\\n\\n\"\n",
    "\n",
    "print \"Checking for duplicates in corrected version:\"\n",
    "\n",
    "lastpos = -1\n",
    "for i in xrange(len(deltacovplane)):\n",
    "  if deltacovplane[i][0] == lastpos:\n",
    "    print \"  Found duplicate: %d: [%d,%d] == %d: [%d,%d]\" % (i-1, deltacovplane[i-1][0], deltacovplane[i-1][1], i, deltacovplane[i][0], deltacovplane[i][1])\n",
    "  lastpos = deltacovplane[i][0]\n",
    "\n",
    "print \"\\n\\n\"\n"
   ]
  },
  {
   "cell_type": "markdown",
   "metadata": {
    "deletable": true,
    "editable": true
   },
   "source": [
    "## This version is 295 times faster than the basic brute force approach to produce the same output!"
   ]
  },
  {
   "cell_type": "markdown",
   "metadata": {
    "deletable": true,
    "editable": true
   },
   "source": [
    "<a name=\"heap\">4. Heap-based plane-sweep algorithm</a>\n",
    "------------------------------------\n",
    "\n",
    "Lists are bad for maintaining the plane because:\n",
    "\n",
    "-  removing from the front requires shifting everything over: ``O(N)`` time\n",
    "-  inserting into the middle (or end) also requires shifting and possibly resizing: ``O(N)``\n",
    "\n",
    "This can result in a worst case runtime of ``O(N^2)`` because for each read we may need to shift the list by all ``N`` positions. Fortunately, with real datasets the maximum length of the list is bounded by the maximum read depth (D), so will result in an ``O(N*D)`` runtime\n",
    "\n",
    "If the reads (intervals) were all the same length, we would always append to the end\n",
    "and remove from the very front. A good data structure for this is called a [deque](http://en.wikipedia.org/wiki/Double-ended_queue)\n",
    "and enables ``O(1)`` remove-from-front and ``O(1)`` append-to-end operations\n",
    "                       _________________________________\n",
    "       appendleft ->  |    |    |    |    |    |    |   | <-- append\n",
    "       popleft    <-  |____|____|____|____|____|____|___| --> pop\n",
    "\n",
    "\n",
    "Deques are implemented as a doublely-linked-list, and can be used from the [deque collection API](https://docs.python.org/2/library/collections.html#collections.deque)\n",
    "\n",
    "    from collections import deque\n",
    "    d = deque()\n",
    "    d.append()  <- adds to the end\n",
    "    d.popleft() <- removes from the front\n",
    "\n",
    "this estalishes a \"queue\" for the end positions and accelerates to O(N) runtime!\n",
    "\n",
    "\n",
    "## Plane-sweep with a heap ##\n",
    "\n",
    "However, in general, the intervals will not be of uniform length so this will not\n",
    "be sufficient. The data structure we really want should support very fast (``O(1)``) ability\n",
    "to find the minimum item of the plane, \"fast\" ability to remove it, \n",
    "and \"fast\" ability to add a new item to the plane\n",
    "\n",
    "A good data structure for this is called a <a href=\"http://en.wikipedia.org/wiki/Heap_(data_structure)\">heap</a> (aka min-heap, aka priority queue), and more specifically a [binary heap](http://en.wikipedia.org/wiki/Binary_heap)\n",
    "\n",
    "Binary heaps are complete binary trees such that the parent is smaller than both of the children. By construction, the height of the tree is completely balanced, except for the bottommost level which may be incomplete. This is made possible because the the relative ordering of the left and right children is arbitrary. (Note it is possible to maintain balanced binary trees in other ways, but wont support constant time look up of minimum values). In a heap it is trival to find the minimum value, since by construction it is always the top of the heap! \n",
    "\n",
    "<a href=\"http://en.wikipedia.org/wiki/Heap_(data_structure)\">\n",
    "![Binary Heap](http://upload.wikimedia.org/wikipedia/commons/6/69/Min-heap.png)</a>\n",
    "\n",
    "\n",
    "\n",
    "\n",
    "\n",
    "** Removing an element **\n",
    "\n",
    "Removing the minimum is a bit more compplex and requires ``O(log n)`` steps. The first step is to shift a leaf value into the root position. If that value happens to be smaller than the children, then done. Otherwise, interatively swap it with the smaller of its two children. In the worst case, it will be reswapped down to the botton of the heap again in ``O(log n)`` steps. Note the deletions are always picked from the leaf nodes so the balance of tree will be guaranteed.\n",
    "\n",
    "Here is a nice tutorial on [removing an element](http://www.algolist.net/Data_structures/Binary_heap/Remove_minimum)\n",
    "\n",
    "\n",
    "** Inserting into a heap **\n",
    "   \n",
    "Adding a new value into a heap is fast: the value is added as the first available leaf node and then repeatedly pushed up the heap if its value is smaller than its parents. In the worst case this could require ``O(log n)`` up-heap operations, but in average can be done in ``O(1)`` time. \n",
    "\n",
    "Note if the values to be inserted are in sorted order, the values are easily added in ``O(1) time`\n",
    "\n",
    "Here is a nice tutorial on [inserting an element](http://www.algolist.net/Data_structures/Binary_heap/Insertion)\n",
    "\n",
    "\n",
    "\n",
    "** Representing a heap **\n",
    "We can store a heap by embedding the tree inside of an array so that the children at node ``k`` are indexed at nodes ``2k+1`` and ``2k+2``. This is useful because then we dont have to incure the storage costs of the tree pointers. Up-heap or down-heap operations are a simple matter of swapping elements in the list, and finding the next free leaf is just the first free cell at the end of the list.\n",
    "\n",
    "For example, the above heap can be represented as\n",
    "\n",
    "    idx    0   1   2   3   4   5   6   7   8\n",
    "    val    1   2   3  17  19  36   7  25 100  \n",
    "    \n",
    "The next free cell is 9, which is a child of 4 (``2*4+1 = 9``)\n",
    "\n",
    "In python, these techniques are implemented in the [heapq](https://docs.python.org/2/library/heapq.html) package. This restores us to ``O(N log N)`` worst case runtime. However, the time to maintain the heap is bounded by the size of it, so in practice the runtime will be much faster: ``O(N log D)`` where ``D`` is the maximum depth of coverage. For more genomics project, this is effectively a constant value around ``log(100) = 8``."
   ]
  },
  {
   "cell_type": "code",
   "execution_count": 19,
   "metadata": {
    "collapsed": false,
    "deletable": true,
    "editable": true
   },
   "outputs": [
    {
     "name": "stdout",
     "output_type": "stream",
     "text": [
      "Beginning heap-based plane sweep over 1873 reads\n",
      "Heap-Plane sweep found 3698 steps, saving 99.62% of the space in 14.26 ms (311.08 speedup)!\n",
      "  0: [0,1]\n",
      "  1: [799,2]\n",
      "  2: [1844,3]\n",
      "  ...\n",
      "  3695: [973770,2]\n",
      "  3696: [973779,1]\n",
      "  3697: [973898,0]\n",
      "\n",
      "\n",
      "\n",
      "Checking for duplicates in heap-ified version:\n",
      "\n",
      "\n",
      "\n"
     ]
    }
   ],
   "source": [
    "print \"Beginning heap-based plane sweep over %d reads\" % (len(reads))\n",
    "\n",
    "starttime = time.time()\n",
    "\n",
    "## record the delta encoded depth using a plane sweep\n",
    "deltacovplane = []\n",
    "\n",
    "## use a list to record the end positions of the elements currently in plane\n",
    "planeheap = []\n",
    "\n",
    "## BEGIN SWEEP (note change to index based so can peek ahead)\n",
    "for rr in xrange(len(reads)):\n",
    "  r = reads[rr]\n",
    "  startpos = r[1]\n",
    "  endpos   = r[2]\n",
    "\n",
    "  ## clear out any positions from the plane that we have already moved past\n",
    "  while (len(planeheap) > 0):\n",
    "\n",
    "    if (planeheap[0] <= startpos):\n",
    "      ## the coverage steps down, extract it from the front of the list \n",
    "      ## oldend = planelist.pop(0) \n",
    "      oldend = heapq.heappop(planeheap)\n",
    "\n",
    "      nextend = -1\n",
    "      if (len(planeheap) > 0):\n",
    "        nextend = planeheap[0]\n",
    "\n",
    "      ## only record this transition if it is not the same as a start pos\n",
    "      ## and only if not the same as the next end point\n",
    "      if ((oldend != startpos) and (oldend != nextend)):\n",
    "        deltacovplane.append((oldend, len(planeheap)))\n",
    "    else:\n",
    "      break\n",
    "\n",
    "  ## Now insert the current endpos into the correct position into the list\n",
    "\n",
    "  ##insertpos = -1\n",
    "  ##for i in xrange(len(planelist)):\n",
    "  ##  if (endpos < planelist[i]):\n",
    "  ##      insertpos = i\n",
    "  ##      break\n",
    "\n",
    "  ##if (insertpos > 0):\n",
    "  ##  planelist.insert(insertpos, endpos)\n",
    "  ##else:\n",
    "  ##  planelist.append(endpos)\n",
    "\n",
    "  heapq.heappush(planeheap, endpos)\n",
    "\n",
    "\n",
    "  ## Finally record that the coverage has increased\n",
    "  ## But make sure the current read does not start at the same position as the next\n",
    "  if ((rr == len(reads)-1) or (startpos != reads[rr+1][1])):\n",
    "    deltacovplane.append((startpos, len(planeheap)))\n",
    "\n",
    "  ## if it is at the same place, it will get reported in the next cycle\n",
    "\n",
    "\n",
    "## Flush any remaining end positions\n",
    "while (len(planeheap) > 0):\n",
    "  ##oldend = planelist.pop(0) \n",
    "  oldend = heapq.heappop(planeheap)\n",
    "  deltacovplane.append((oldend, len(planeheap)))\n",
    "\n",
    "\n",
    "\n",
    "## Report statistics\n",
    "planeheaptime = (time.time()-starttime) * 1000.0\n",
    "print \"Heap-Plane sweep found %d steps, saving %0.02f%% of the space in %0.02f ms (%0.02f speedup)!\" % (len(deltacovplane), (100.0*float(totallen-len(deltacovplane))/totallen), planeheaptime, brutetime/planeheaptime)\n",
    "\n",
    "for i in xrange(3):\n",
    "  print \"  %d: [%d,%d]\" % (i, deltacovplane[i][0], deltacovplane[i][1])\n",
    "\n",
    "print \"  ...\"\n",
    "\n",
    "for i in xrange(len(deltacovplane)-3, len(deltacovplane)):\n",
    "  print \"  %d: [%d,%d]\" % (i, deltacovplane[i][0], deltacovplane[i][1])\n",
    "\n",
    "print \"\\n\\n\"\n",
    "\n",
    "print \"Checking for duplicates in heap-ified version:\"\n",
    "\n",
    "lastpos = -1\n",
    "for i in xrange(len(deltacovplane)):\n",
    "  if deltacovplane[i][0] == lastpos:\n",
    "    print \"  Found duplicate: %d: [%d,%d] == %d: [%d,%d]\" % (i-1, deltacovplane[i-1][0], deltacovplane[i-1][1], i, deltacovplane[i][0], deltacovplane[i][1])\n",
    "  lastpos = deltacovplane[i][0]\n",
    "\n",
    "print \"\\n\\n\"\n"
   ]
  },
  {
   "cell_type": "markdown",
   "metadata": {
    "deletable": true,
    "editable": true
   },
   "source": [
    "# <a name=\"awesome\"><center>The heap-based plane-sweep algorithm is 311 times faster than the brute force approach!</center><a>"
   ]
  },
  {
   "cell_type": "markdown",
   "metadata": {
    "deletable": true,
    "editable": true
   },
   "source": [
    "<a name=\"maxreadids\">5. Max-coverage read ids</a>\n",
    "-------------------------\n",
    "\n",
    "Now lets use this framework to figure out which reads span the position of max coverage as we are scanning the alignments. The technique is to update the heap to store the read end position as the primary key, but also associate it with the read id. Then whenever we see we have established a new maximum coverage level, we record the ids of the reads in the heap."
   ]
  },
  {
   "cell_type": "code",
   "execution_count": 20,
   "metadata": {
    "collapsed": false,
    "deletable": true,
    "editable": true
   },
   "outputs": [
    {
     "name": "stdout",
     "output_type": "stream",
     "text": [
      "Beginning heap-based plane sweep over 1873 reads to search for max reads\n",
      "Heap-Plane sweep found 3698 steps, saving 99.62% of the space in 14.36 ms (308.74 speedup)!\n",
      "The 49 reads at the position of maximum depth (62132) are:\n",
      "['read118', 'read112', 'read102', 'read113', 'read107', 'read82', 'read129', 'read114', 'read104', 'read105', 'read111', 'read125', 'read124', 'read110', 'read108', 'read135', 'read119', 'read121', 'read126', 'read128', 'read138', 'read146', 'read93', 'read96', 'read137', 'read127', 'read106', 'read148', 'read136', 'read131', 'read140', 'read139', 'read130', 'read117', 'read120', 'read141', 'read122', 'read132', 'read133', 'read134', 'read142', 'read143', 'read144', 'read145', 'read149', 'read147', 'read150', 'read151', 'read152']\n",
      "\n",
      "\n",
      "\n",
      "  0: [0,1]\n",
      "  1: [799,2]\n",
      "  2: [1844,3]\n",
      "  ...\n",
      "  3695: [973770,2]\n",
      "  3696: [973779,1]\n",
      "  3697: [973898,0]\n",
      "\n",
      "\n",
      "\n",
      "Checking for duplicates in heap-ified version:\n",
      "\n",
      "\n",
      "\n"
     ]
    }
   ],
   "source": [
    "print \"Beginning heap-based plane sweep over %d reads to search for max reads\" % (len(reads))\n",
    "\n",
    "starttime = time.time()\n",
    "\n",
    "## record the delta encoded depth using a plane sweep\n",
    "deltacovplane = []\n",
    "\n",
    "## use a list to record the end positions of the elements currently in plane\n",
    "planeheap = []\n",
    "\n",
    "## use a list to record the ids at max coverage\n",
    "maxcov = -1\n",
    "maxcovpos = -1\n",
    "maxcovreads = []\n",
    "\n",
    "## BEGIN SWEEP (note change to index based so can peek ahead)\n",
    "for rr in xrange(len(reads)):\n",
    "  r = reads[rr]\n",
    "  readid   = r[0]\n",
    "  startpos = r[1]\n",
    "  endpos   = r[2]\n",
    "\n",
    "  ## clear out any positions from the plane that we have already moved past\n",
    "  while (len(planeheap) > 0):\n",
    "\n",
    "    if (planeheap[0][0] <= startpos):\n",
    "      ## the coverage steps down, extract it from the front of the list \n",
    "      oldend = heapq.heappop(planeheap)[0]\n",
    "\n",
    "      nextend = -1\n",
    "      if (len(planeheap) > 0):\n",
    "        nextend = planeheap[0][0]\n",
    "\n",
    "      ## only record this transition if it is not the same as a start pos\n",
    "      ## and only if not the same as the next end point\n",
    "      if ((oldend != startpos) and (oldend != nextend)):\n",
    "        deltacovplane.append((oldend, len(planeheap)))\n",
    "    else:\n",
    "      break\n",
    "\n",
    "  ## Now insert the current endpos into the correct position into the list\n",
    "  heapq.heappush(planeheap, (endpos, readid))\n",
    "\n",
    "\n",
    "  ## Finally record that the coverage has increased\n",
    "  ## But make sure the current read does not start at the same position as the next\n",
    "  if ((rr == len(reads)-1) or (startpos != reads[rr+1][1])):\n",
    "    cov = len(planeheap)\n",
    "    if (cov > maxcov):\n",
    "      maxcov = cov\n",
    "      maxcovpos = startpos\n",
    "      maxcovreads = []\n",
    "      for rr in planeheap:\n",
    "        maxcovreads.append(rr[1])\n",
    "\n",
    "    deltacovplane.append((startpos, len(planeheap)))\n",
    "\n",
    "\n",
    "## Flush any remaining end positions\n",
    "while (len(planeheap) > 0):\n",
    "  oldend = heapq.heappop(planeheap)[0]\n",
    "  deltacovplane.append((oldend, len(planeheap)))\n",
    "\n",
    "\n",
    "\n",
    "## Report statistics\n",
    "planeheaptime = (time.time()-starttime) * 1000.0\n",
    "print \"Heap-Plane sweep found %d steps, saving %0.02f%% of the space in %0.02f ms (%0.02f speedup)!\" % (len(deltacovplane), (100.0*float(totallen-len(deltacovplane))/totallen), planeheaptime, brutetime/planeheaptime)\n",
    "\n",
    "print \"The %d reads at the position of maximum depth (%d) are:\" % (maxcov, maxcovpos)\n",
    "print maxcovreads\n",
    "\n",
    "print \"\\n\\n\"\n",
    "\n",
    "for i in xrange(3):\n",
    "  print \"  %d: [%d,%d]\" % (i, deltacovplane[i][0], deltacovplane[i][1])\n",
    "\n",
    "print \"  ...\"\n",
    "\n",
    "for i in xrange(len(deltacovplane)-3, len(deltacovplane)):\n",
    "  print \"  %d: [%d,%d]\" % (i, deltacovplane[i][0], deltacovplane[i][1])\n",
    "\n",
    "print \"\\n\\n\"\n",
    "\n",
    "print \"Checking for duplicates in heap-ified version:\"\n",
    "\n",
    "lastpos = -1\n",
    "for i in xrange(len(deltacovplane)):\n",
    "  if deltacovplane[i][0] == lastpos:\n",
    "    print \"  Found duplicate: %d: [%d,%d] == %d: [%d,%d]\" % (i-1, deltacovplane[i-1][0], deltacovplane[i-1][1], i, deltacovplane[i][0], deltacovplane[i][1])\n",
    "  lastpos = deltacovplane[i][0]\n",
    "\n",
    "print \"\\n\\n\"\n"
   ]
  },
  {
   "cell_type": "markdown",
   "metadata": {
    "deletable": true,
    "editable": true
   },
   "source": [
    "<a name=\"plotmaxdepth\">6. Plot the max depth position</a>\n",
    "-------------------------------"
   ]
  },
  {
   "cell_type": "code",
   "execution_count": 33,
   "metadata": {
    "collapsed": false,
    "deletable": true,
    "editable": true
   },
   "outputs": [
    {
     "name": "stdout",
     "output_type": "stream",
     "text": [
      "Plotting max depth\n",
      "\n",
      "\n"
     ]
    },
    {
     "data": {
      "image/png": "[encoded data removed]",
      "text/plain": [
       "<matplotlib.figure.Figure at 0x10bd1e7d0>"
      ]
     },
     "metadata": {},
     "output_type": "display_data"
    }
   ],
   "source": [
    "  f = plt.figure(figsize=(15,4), dpi=100)\n",
    "    \n",
    "  print \"Plotting max depth\\n\\n\"\n",
    "\n",
    "  lastend = -1\n",
    "  lastidx = -1\n",
    "    \n",
    "  ## draw the layout of reads\n",
    "  for i in xrange(min(MAX_READS_LAYOUT, len(reads))):\n",
    "    r = reads[i]\n",
    "    readid = r[0]\n",
    "    start  = r[1]\n",
    "    end    = r[2]\n",
    "    rc     = r[3]\n",
    "    color  = \"blue\"\n",
    "\n",
    "    if (rc == 1): \n",
    "      color = \"red\"\n",
    "\n",
    "    plt.plot ([start,end], [-2*i, -2*i], lw=4, color=color)\n",
    "    lastend = end\n",
    "    lastidx = i\n",
    "\n",
    "  ## draw the base of the coverage plot\n",
    "  plt.plot([0, lastend], [0,0], color=\"black\")\n",
    "\n",
    "  ## draw the coverage profile\n",
    "  for i in xrange(len(deltacov)-1):\n",
    "    x1 = deltacov[i][0]\n",
    "    x2 = deltacov[i+1][0]\n",
    "    y1  = YSCALE * deltacov[i][1]\n",
    "    y2  = YSCALE * deltacov[i+1][1]\n",
    "\n",
    "    ## draw the horizonal line\n",
    "    plt.plot([x1, x2], [y1, y1], color=\"black\")\n",
    "    \n",
    "    ## and now the right vertical to the new coverage level\n",
    "    plt.plot([x2, x2], [y1, y2], color=\"black\")\n",
    "    if (x2 >= lastend):\n",
    "        break\n",
    "\n",
    "  ## draw a vertical bar with the max coverage\n",
    "  plt.plot([maxcovpos, maxcovpos], [YSCALE*maxcov, -(2*lastidx+20)], color=\"green\", lw=2)\n",
    "  plt.draw()\n",
    "  plt.show()\n"
   ]
  },
  {
   "cell_type": "markdown",
   "metadata": {
    "deletable": true,
    "editable": true
   },
   "source": [
    "<a name=\"summary\">7. Summary</a>\n",
    "-----------\n",
    "\n",
    "In this example, the heap-based plane sweep algorithm was 300 to 400 times\n",
    "faster than the basic brute force approach on my laptop! The advantage\n",
    "of the heap-based approach over the list based approach will become even \n",
    "more significant with deeper coverage as ``log(D)`` and ``D`` become more significant differences.\n",
    "\n",
    "In the next session we will explore the related question of how to index \n",
    "the alignments to be able to quickly determine which reads span a particular location. Plane-sweep algorithms are also widely used to solve many interesting problems in [computational geometry](http://en.wikipedia.org/wiki/Computational_geometry)\n"
   ]
  }
 ],
 "metadata": {
  "kernelspec": {
   "display_name": "Python 2",
   "language": "python",
   "name": "python2"
  },
  "language_info": {
   "codemirror_mode": {
    "name": "ipython",
    "version": 2
   },
   "file_extension": ".py",
   "mimetype": "text/x-python",
   "name": "python",
   "nbconvert_exporter": "python",
   "pygments_lexer": "ipython2",
   "version": "2.7.13"
  }
 },
 "nbformat": 4,
 "nbformat_minor": 0
}
